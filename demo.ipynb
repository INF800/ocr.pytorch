{
  "nbformat": 4,
  "nbformat_minor": 0,
  "metadata": {
    "colab": {
      "name": "ocr-pytorch.ipynb",
      "provenance": [],
      "collapsed_sections": [],
      "mount_file_id": "1ncj414q38UOuMnBpOGSllLTlArWP7VXn",
      "authorship_tag": "ABX9TyPQCeSINertzFTV+DZ5GLXg",
      "include_colab_link": true
    },
    "kernelspec": {
      "name": "python3",
      "display_name": "Python 3"
    }
  },
  "cells": [
    {
      "cell_type": "markdown",
      "metadata": {
        "id": "view-in-github",
        "colab_type": "text"
      },
      "source": [
        "<a href=\"https://colab.research.google.com/github/rakesh4real/ocr.pytorch/blob/master/demo.ipynb\" target=\"_parent\"><img src=\"https://colab.research.google.com/assets/colab-badge.svg\" alt=\"Open In Colab\"/></a>"
      ]
    },
    {
      "cell_type": "code",
      "metadata": {
        "id": "7KJyVNO8Vj19",
        "outputId": "74881c8d-4a77-4ef4-f18d-f36cf214ca8e",
        "colab": {
          "base_uri": "https://localhost:8080/",
          "height": 136
        }
      },
      "source": [
        "!apt install tree\n",
        "!git clone https://github.com/courao/ocr.pytorch.git"
      ],
      "execution_count": 1,
      "outputs": [
        {
          "output_type": "stream",
          "text": [
            "Cloning into 'ocr.pytorch'...\n",
            "remote: Enumerating objects: 78, done.\u001b[K\n",
            "remote: Counting objects: 100% (78/78), done.\u001b[K\n",
            "remote: Compressing objects: 100% (51/51), done.\u001b[K\n",
            "remote: Total 285 (delta 30), reused 70 (delta 24), pack-reused 207\u001b[K\n",
            "Receiving objects: 100% (285/285), 2.23 MiB | 2.14 MiB/s, done.\n",
            "Resolving deltas: 100% (120/120), done.\n"
          ],
          "name": "stdout"
        }
      ]
    },
    {
      "cell_type": "code",
      "metadata": {
        "id": "04eXcD5HWSzz",
        "outputId": "1762eb38-475d-46e4-c85b-dbb53c79857e",
        "colab": {
          "base_uri": "https://localhost:8080/",
          "height": 34
        }
      },
      "source": [
        "%cd ocr.pytorch"
      ],
      "execution_count": 3,
      "outputs": [
        {
          "output_type": "stream",
          "text": [
            "/content/ocr.pytorch\n"
          ],
          "name": "stdout"
        }
      ]
    },
    {
      "cell_type": "code",
      "metadata": {
        "id": "0dMcxoTNWXtD",
        "outputId": "85791e2c-cdba-4920-96f7-ed5cb366f0c9",
        "colab": {
          "base_uri": "https://localhost:8080/",
          "height": 1000
        }
      },
      "source": [
        "!tree"
      ],
      "execution_count": 4,
      "outputs": [
        {
          "output_type": "stream",
          "text": [
            "Reading package lists... Done\n",
            "Building dependency tree       \n",
            "Reading state information... Done\n",
            "The following NEW packages will be installed:\n",
            "  tree\n",
            "0 upgraded, 1 newly installed, 0 to remove and 21 not upgraded.\n",
            "Need to get 40.7 kB of archives.\n",
            "After this operation, 105 kB of additional disk space will be used.\n",
            "Get:1 http://archive.ubuntu.com/ubuntu bionic/universe amd64 tree amd64 1.7.0-5 [40.7 kB]\n",
            "Fetched 40.7 kB in 1s (46.3 kB/s)\n",
            "Selecting previously unselected package tree.\n",
            "(Reading database ... 144611 files and directories currently installed.)\n",
            "Preparing to unpack .../tree_1.7.0-5_amd64.deb ...\n",
            "Unpacking tree (1.7.0-5) ...\n",
            "Setting up tree (1.7.0-5) ...\n",
            "Processing triggers for man-db (2.8.3-2ubuntu0.1) ...\n",
            ".\n",
            "├── checkpoints\n",
            "├── demo.py\n",
            "├── detect\n",
            "│   ├── config.py\n",
            "│   ├── ctpn_model.py\n",
            "│   ├── ctpn_predict.py\n",
            "│   ├── ctpn_utils.py\n",
            "│   └── __pycache__\n",
            "│       ├── config.cpython-37.pyc\n",
            "│       ├── ctpn_model.cpython-37.pyc\n",
            "│       ├── ctpn_predict.cpython-37.pyc\n",
            "│       └── ctpn_utils.cpython-37.pyc\n",
            "├── LICENSE\n",
            "├── ocr.py\n",
            "├── README.md\n",
            "├── recognize\n",
            "│   ├── alphabet.pkl\n",
            "│   ├── config.py\n",
            "│   ├── crnn.py\n",
            "│   ├── crnn_recognizer.py\n",
            "│   └── keys.py\n",
            "├── test_images\n",
            "│   ├── t1.png\n",
            "│   ├── t2.png\n",
            "│   ├── t3.png\n",
            "│   ├── t4.png\n",
            "│   └── t5.png\n",
            "├── test_one.py\n",
            "├── test_result\n",
            "│   └── t1.jpg\n",
            "└── train_code\n",
            "    ├── train_crnn\n",
            "    │   ├── alphabet.pkl\n",
            "    │   ├── config.py\n",
            "    │   ├── crnn_models\n",
            "    │   ├── crnn.py\n",
            "    │   ├── crnn_recognizer.py\n",
            "    │   ├── keys.py\n",
            "    │   ├── mydataset.py\n",
            "    │   ├── online_test.py\n",
            "    │   ├── readme.md\n",
            "    │   ├── recognizer.py\n",
            "    │   ├── split_train_test.py\n",
            "    │   ├── t1.jpg\n",
            "    │   ├── train_pytorch_ctc.py\n",
            "    │   ├── train_warp_ctc.py\n",
            "    │   ├── train_warp_ctc_v2.py\n",
            "    │   ├── trans.py\n",
            "    │   ├── trans_utils.py\n",
            "    │   └── utils.py\n",
            "    └── train_ctpn\n",
            "        ├── config.py\n",
            "        ├── ctpn_model.py\n",
            "        ├── ctpn_model_v2.py\n",
            "        ├── ctpn_predict.py\n",
            "        ├── ctpn_train.py\n",
            "        ├── ctpn_utils.py\n",
            "        ├── data\n",
            "        │   ├── dataset.py\n",
            "        │   ├── __init__.py\n",
            "        │   └── __pycache__\n",
            "        │       ├── dataset.cpython-36.pyc\n",
            "        │       └── __init__.cpython-36.pyc\n",
            "        ├── __pycache__\n",
            "        │   ├── config.cpython-37.pyc\n",
            "        │   ├── ctpn_model.cpython-37.pyc\n",
            "        │   └── ctpn_utils.cpython-37.pyc\n",
            "        └── readme.md\n",
            "\n",
            "13 directories, 55 files\n"
          ],
          "name": "stdout"
        }
      ]
    },
    {
      "cell_type": "code",
      "metadata": {
        "id": "rrntJDJvWfYt"
      },
      "source": [
        "!cp '/content/drive/My Drive/ocr/CRNN-1010.pth' ./checkpoints/\n",
        "!cp '/content/drive/My Drive/ocr/CTPN.pth' ./checkpoints/"
      ],
      "execution_count": 7,
      "outputs": []
    },
    {
      "cell_type": "code",
      "metadata": {
        "id": "QrrXkVMFW_HL",
        "outputId": "3960e9e4-3af7-4441-eba6-c8a2d15cefe6",
        "colab": {
          "base_uri": "https://localhost:8080/",
          "height": 34
        }
      },
      "source": [
        "!ls checkpoints"
      ],
      "execution_count": 9,
      "outputs": [
        {
          "output_type": "stream",
          "text": [
            "CRNN-1010.pth  CTPN.pth\n"
          ],
          "name": "stdout"
        }
      ]
    },
    {
      "cell_type": "code",
      "metadata": {
        "id": "d4o0AsFkXPQm",
        "outputId": "c9c7baab-116d-4c6f-9479-5e5ba3e4efc4",
        "colab": {
          "base_uri": "https://localhost:8080/",
          "height": 513
        }
      },
      "source": [
        "!python test_one.py testme.png"
      ],
      "execution_count": 18,
      "outputs": [
        {
          "output_type": "stream",
          "text": [
            "{0: [array([ 20.94909918,  19.64116265, 505.        ,  18.79504979,\n",
            "        21.        ,  47.55773588, 505.05090082,  46.71162301,\n",
            "         0.93806547]), 'There isanenvironmental varable.'], 1: [array([5.00000000e+00, 6.22860174e+01, 1.03300733e+03, 6.25257055e+01,\n",
            "       4.99267409e+00, 9.30951073e+01, 1.03300000e+03, 9.33347954e+01,\n",
            "       9.16586876e-01]), 'TCMALLOCLARGEALLOCREPORT THRESHOLD. which bv defaut'], 2: [array([5.00000000e+00, 1.07393454e+02, 1.03302097e+03, 1.08063612e+02,\n",
            "       4.97903339e+00, 1.38930477e+02, 1.03300000e+03, 1.39600635e+02,\n",
            "       9.28762734e-01]), 'is Set to1073741824bytes.-1GBSofthere isanaocation that is == or'], 3: [array([5.00000000e+00, 1.52620604e+02, 1.01702862e+03, 1.53491540e+02,\n",
            "       4.97138080e+00, 1.85218941e+02, 1.01700000e+03, 1.86089877e+02,\n",
            "       9.28208947e-01]), 'exceeds1GBofmemom.thismessage wilbe displayed in he ndsd.log.'], 4: [array([5.00000000e+00, 2.33856625e+02, 1.01700082e+03, 2.33884731e+02,\n",
            "       4.99917934e+00, 2.62822142e+02, 1.01700000e+03, 2.62850248e+02,\n",
            "       9.34711099e-01]), 'lfthereisaareatdeal ofmemomv inthe semver. such as areater than 8G'], 5: [array([5.00000000e+00, 2.76213056e+02, 1.03314199e+03, 2.80808797e+02,\n",
            "       4.85801023e+00, 3.07360556e+02, 1.03300000e+03, 3.11956297e+02,\n",
            "       9.59803998e-01]), '32GB and/orafairvlargeeDirectomy databaseyoumay seethis message'], 6: [array([4.97136659e+00, 3.24769152e+02, 9.69000000e+02, 3.23838693e+02,\n",
            "       5.00000000e+00, 3.53820143e+02, 9.69028633e+02, 3.52889684e+02,\n",
            "       9.06224012e-01]), 'more readilv.You can ust modifvhethresholdtobeureaterthanhe'], 7: [array([  5.        , 368.84468973, 633.04578638, 369.69955987,\n",
            "         4.95421362, 401.411291  , 633.        , 402.26616114,\n",
            "         0.93771052]), 'typical allochatyour seeing inhendsd.Iog.'], 8: [array([  5.        , 451.68985577, 889.01459356, 452.15349799,\n",
            "         4.98540644, 478.88549995, 889.        , 479.34914216,\n",
            "         0.90726614]), 'lmnotsurethisisspecificallv correctaivenmunawareofhe'], 9: [array([5.00000000e+00, 4.95970925e+02, 1.03306515e+03, 4.98236909e+02,\n",
            "       4.93485416e+00, 5.24952260e+02, 1.03300000e+03, 5.27218244e+02,\n",
            "       8.89757216e-01]), 'environmentyoureusing,ldsavtheexplanationcan begeneralzed as a'], 10: [array([  5.        , 541.65450725, 889.07503934, 544.033012  ,\n",
            "         4.92496066, 568.91517067, 889.        , 571.29367542,\n",
            "         0.94319004]), 'warninahat1GBofmemomvhasbeemn allocated bvne runninc'], 11: [array([  4.49635994, 586.73926796, 185.        , 584.36819148,\n",
            "         5.        , 620.8318263 , 185.50364006, 618.46074982,\n",
            "         0.95217144]), 'application.'], 12: [array([  5.        , 663.23622257, 889.09070081, 665.48620142,\n",
            "         4.90929919, 698.06931846, 889.        , 700.31929731,\n",
            "         0.9656108 ]), 'Further info:hts:Mgithucom/geemoolsger00sRues360']}\n",
            ": cannot connect to X server \n"
          ],
          "name": "stdout"
        }
      ]
    }
  ]
}